{
 "cells": [
  {
   "cell_type": "code",
   "execution_count": 1,
   "metadata": {
    "slideshow": {
     "slide_type": "skip"
    }
   },
   "outputs": [],
   "source": [
    "import numpy as np\n",
    "import matplotlib.pyplot as plt\n",
    "import pandas as pd\n",
    "\n",
    "import warnings\n",
    "warnings.filterwarnings('ignore')\n",
    "\n",
    "plt.style.use('ggplot')\n",
    "\n",
    "%matplotlib inline\n",
    "\n",
    "plt.style.use('ggplot')\n",
    "plt.rcParams['figure.figsize'] = (12,8)\n",
    "\n"
   ]
  },
  {
   "cell_type": "code",
   "execution_count": 17,
   "metadata": {},
   "outputs": [],
   "source": [
    "a=[1,1,0,1,1,1,0,0,1,0,1,0,1,0,0,0,1,0,1,0]\n",
    "b=[0.9, 0.8,0.7,.6,.55,.54,.53,.52,.51,.505,.4,.39,.38,.37,.36,.35,.34,.33,.30,.1]\n",
    "\n",
    "j=0\n",
    "fpr=np.zeros(100)\n",
    "tpr=np.zeros(100)\n",
    "\n",
    "for th in np.arange(0.01,1,0.01):\n",
    "    fp=0.\n",
    "    tp=0.\n",
    "    tn=0.\n",
    "    fn=0.\n",
    "    i=0\n",
    "    for c in b:\n",
    "        if (c>= th)& (a[i]==1):\n",
    "            tp+=1\n",
    "            i+=0\n",
    "        if (c< th)& (a[i]==1):\n",
    "            fn+=1\n",
    "            i+=0\n",
    "        if (c>= th)& (a[i]==0):\n",
    "            fp+=1\n",
    "            i+=0\n",
    "        if (c< th)& (a[i]==0):\n",
    "            tn+=1\n",
    "            i+=0\n",
    "    #print tn\n",
    "    if fp ==0:\n",
    "        fpr[j]=0\n",
    "        j+=1\n",
    "        continue\n",
    "    fpr[j]=fp/(fp+tn)\n",
    "    tpr[j]=tp/(tp+tn)\n",
    "    j+=1\n",
    "\n",
    "    "
   ]
  },
  {
   "cell_type": "code",
   "execution_count": 19,
   "metadata": {},
   "outputs": [
    {
     "data": {
      "text/plain": [
       "[0.9,\n",
       " 0.8,\n",
       " 0.7,\n",
       " 0.6,\n",
       " 0.55,\n",
       " 0.54,\n",
       " 0.53,\n",
       " 0.52,\n",
       " 0.51,\n",
       " 0.505,\n",
       " 0.4,\n",
       " 0.39,\n",
       " 0.38,\n",
       " 0.37,\n",
       " 0.36,\n",
       " 0.35,\n",
       " 0.34,\n",
       " 0.33,\n",
       " 0.3,\n",
       " 0.1]"
      ]
     },
     "execution_count": 19,
     "metadata": {},
     "output_type": "execute_result"
    }
   ],
   "source": [
    "b"
   ]
  },
  {
   "cell_type": "markdown",
   "metadata": {
    "slideshow": {
     "slide_type": "slide"
    }
   },
   "source": [
    "<center><img src=\"images/header.png\"></center>\n",
    "\n",
    "<h1><center>Алгоритмы интеллектуальной обработки больших объемов данных</center></h1>\n",
    "<hr>\n",
    "<h2><center>Деревья решений, случайные леса</center></h2>"
   ]
  },
  {
   "cell_type": "markdown",
   "metadata": {
    "slideshow": {
     "slide_type": "subslide"
    }
   },
   "source": [
    "## Quiz Time!"
   ]
  },
  {
   "cell_type": "markdown",
   "metadata": {
    "slideshow": {
     "slide_type": "slide"
    }
   },
   "source": [
    "# Деревья решений"
   ]
  },
  {
   "cell_type": "markdown",
   "metadata": {
    "slideshow": {
     "slide_type": "subslide"
    }
   },
   "source": [
    "## Пример 1\n",
    "\n",
    "* Некоторая кoмпания открыла курс по разработке приложений на Andriod для (всех) студентов МГУ\n",
    "* Прошло уже несколько наборов\n",
    "* По результатам каждого отбора слушатели отставляют отзыв (`+1`|`-1`)\n",
    "* О слушателях известно\n",
    "    * Пол\n",
    "    * Возраст\n",
    "    * Курс\n",
    "    * Факультет\n",
    "    * Посещаемость\n",
    "    * Оценки за ДЗ\n",
    "    * ...\n",
    "    \n",
    "Компания просит у исследователя описать те группы слушателей, которым курс не понравился, чтобы возможно как-то его улучшить."
   ]
  },
  {
   "cell_type": "markdown",
   "metadata": {
    "slideshow": {
     "slide_type": "subslide"
    }
   },
   "source": [
    "В идеальном мире исследователь должен прийти с чем-то вроде\n",
    "\n",
    "* `[Пол = Ж][Возраст > 21][Факультет = Экономика][Посещаемость < 50%]`  - не нравится в 82% случаев\n",
    "* `[Пол = М][Возраст >= 20][Факультет = ВМК][Средний балл > 4.5]` - не нравится в 10% случаев\n",
    "* ...\n"
   ]
  },
  {
   "cell_type": "markdown",
   "metadata": {
    "slideshow": {
     "slide_type": "subslide"
    }
   },
   "source": [
    "## Пример 2\n",
    "\n",
    "* Вы приходите в банк за кредитом ~~не дай бог~~, подаете анкету со всеми необходимыми документами\n",
    "* Сотрудник банка проверяет вашу анкету:\n",
    "    1. Если объем сбережений <= 200 тыс., то перейти к шагу 2, иначе - к шагу 3.\n",
    "    2. Если стаж больше года - дать кредит, иначе - не давать\n",
    "    3. Если продолжительность займа < 30 месяцев - не давать кредит, иначе - к шагу 4\n",
    "    4. ..."
   ]
  },
  {
   "cell_type": "markdown",
   "metadata": {
    "slideshow": {
     "slide_type": "subslide"
    }
   },
   "source": [
    "<center><img src='https://www.mapr.com/sites/default/files/blogimages/creditdecisiontree.png'><center/>"
   ]
  },
  {
   "cell_type": "markdown",
   "metadata": {
    "slideshow": {
     "slide_type": "subslide"
    }
   },
   "source": [
    "<center><img src='https://i.stack.imgur.com/KYSy4.png'></center>"
   ]
  },
  {
   "cell_type": "markdown",
   "metadata": {
    "slideshow": {
     "slide_type": "subslide"
    }
   },
   "source": [
    "<center><img src='https://media.licdn.com/mpr/mpr/shrinknp_800_800/AAEAAQAAAAAAAAZ5AAAAJGU4MGQyYzM2LTY2ZjgtNGYzYi04NWEyLTVkZGU3ODUxNjljNw.png'></center>"
   ]
  },
  {
   "cell_type": "markdown",
   "metadata": {
    "slideshow": {
     "slide_type": "subslide"
    }
   },
   "source": [
    "<center><img src='https://static01.nyt.com/images/2008/04/16/us/0416-nat-subOBAMA.jpg'><center/>"
   ]
  },
  {
   "cell_type": "markdown",
   "metadata": {
    "slideshow": {
     "slide_type": "subslide"
    }
   },
   "source": [
    "<center><img src='http://scikit-learn.org/stable/_static/ml_map.png'><center/>"
   ]
  },
  {
   "cell_type": "markdown",
   "metadata": {
    "slideshow": {
     "slide_type": "subslide"
    }
   },
   "source": [
    "<center><img src='https://eight2late.files.wordpress.com/2016/02/7214525854_733237dd83_z1.jpg?w=700'><center/>"
   ]
  },
  {
   "cell_type": "markdown",
   "metadata": {
    "slideshow": {
     "slide_type": "subslide"
    }
   },
   "source": [
    "Формально, дерево решений - это связный ациклический граф. В нем можно выделить 3 типа вершин:\n",
    "1. Корневая вершина (root node) -  откуда все начинается\n",
    "2. Внутренние вершины (intermediate nodes)\n",
    "3. Листья (leafs) - самые глубокие вершины дерева, в которых содержится \"ответ\"\n",
    "\n",
    "Во внутренней или коневой вершине признак проверяется на некий логический критерий, по результатам которого мы движемся все глубже"
   ]
  },
  {
   "cell_type": "markdown",
   "metadata": {
    "slideshow": {
     "slide_type": "subslide"
    }
   },
   "source": [
    "## Обобщенный псевдокод алгоритма построения дерева\n",
    "\n",
    "\n",
    "```{python}\n",
    "1. function decision_tree(X, y):\n",
    "\n",
    "2.    if stopping_criterion(X, y) == True:\n",
    "    \n",
    "3.        S = create_leaf_with_prediction(y)\n",
    "        \n",
    "4.    else:\n",
    "    \n",
    "5.        S = create_node()\n",
    "6.        (X_1, y_1) .. (X_L, y_L) = best_split(X, y)\n",
    "        \n",
    "7.        for i in 1..L:\n",
    "8.            C = decision_tree(X_i, y_i)\n",
    "9.            connect_nodes(S, C)\n",
    "10.   return S     \n",
    "```"
   ]
  },
  {
   "cell_type": "markdown",
   "metadata": {
    "slideshow": {
     "slide_type": "subslide"
    }
   },
   "source": [
    "## Как определяются лучшие разбиения (best splits)?\n",
    "### Меры неопределенности (impurity measures)\n",
    "\n",
    "По какому мешку лучше классифицировать?\n",
    "\n",
    "<center><img src='images/bins.png'></center>\n"
   ]
  },
  {
   "cell_type": "markdown",
   "metadata": {
    "slideshow": {
     "slide_type": "subslide"
    }
   },
   "source": [
    "## Как определяются лучшие разбиения (best splits)?\n",
    "### Меры неопределенности (impurity measures)\n",
    "\n",
    "Пусть $p_k$ - это доля класса $C_k$ в узле дерева $S$.\n",
    "\n",
    "1. Missclassification error  \n",
    "$$I(S) = 1 - \\max\\limits_k p_k $$\n",
    "2. Gini index \n",
    "$$I(S) = 1 - \\sum\\limits_k (p_k)^2 = \\sum\\limits_{k'\\neq k} p_{k'} p_k$$\n",
    "3. Entropy \n",
    "$$I(S) = -\\sum\\limits_k p_k \\log(p_k)$$\n"
   ]
  },
  {
   "cell_type": "code",
   "execution_count": 23,
   "metadata": {
    "slideshow": {
     "slide_type": "notes"
    }
   },
   "outputs": [],
   "source": [
    "def plot_impurities():\n",
    "    p = np.linspace(0, 1, 100)\n",
    "    #print p\n",
    "    p = np.c_[p, 1-p]\n",
    "    print p\n",
    "\n",
    "    missclass = 1 - p.max(axis=1)\n",
    "    plt.plot(p[:,0], missclass, label = 'missclassification error')\n",
    "\n",
    "    gini =  (p ** 2)\n",
    "    print gini\n",
    "    plt.plot(p[:,0], gini, label = 'gini index')\n",
    "    \n",
    "    entropy = - np.nansum((p*np.log2(p)), axis=1)\n",
    "    plt.plot(p[:,0], entropy, label = 'entropy')\n",
    "\n",
    "    plt.xlabel('$p_k$')\n",
    "    plt.ylabel('$I(S)$')\n",
    "    # plt.legend(loc=2, bbox_to_anchor=(0.,0.))\n",
    "    plt.legend(loc=2, bbox_to_anchor=(-0.3,1))\n",
    "    \n",
    "    plt.show()"
   ]
  },
  {
   "cell_type": "code",
   "execution_count": 24,
   "metadata": {},
   "outputs": [
    {
     "name": "stdout",
     "output_type": "stream",
     "text": [
      "[[0.         1.        ]\n",
      " [0.01010101 0.98989899]\n",
      " [0.02020202 0.97979798]\n",
      " [0.03030303 0.96969697]\n",
      " [0.04040404 0.95959596]\n",
      " [0.05050505 0.94949495]\n",
      " [0.06060606 0.93939394]\n",
      " [0.07070707 0.92929293]\n",
      " [0.08080808 0.91919192]\n",
      " [0.09090909 0.90909091]\n",
      " [0.1010101  0.8989899 ]\n",
      " [0.11111111 0.88888889]\n",
      " [0.12121212 0.87878788]\n",
      " [0.13131313 0.86868687]\n",
      " [0.14141414 0.85858586]\n",
      " [0.15151515 0.84848485]\n",
      " [0.16161616 0.83838384]\n",
      " [0.17171717 0.82828283]\n",
      " [0.18181818 0.81818182]\n",
      " [0.19191919 0.80808081]\n",
      " [0.2020202  0.7979798 ]\n",
      " [0.21212121 0.78787879]\n",
      " [0.22222222 0.77777778]\n",
      " [0.23232323 0.76767677]\n",
      " [0.24242424 0.75757576]\n",
      " [0.25252525 0.74747475]\n",
      " [0.26262626 0.73737374]\n",
      " [0.27272727 0.72727273]\n",
      " [0.28282828 0.71717172]\n",
      " [0.29292929 0.70707071]\n",
      " [0.3030303  0.6969697 ]\n",
      " [0.31313131 0.68686869]\n",
      " [0.32323232 0.67676768]\n",
      " [0.33333333 0.66666667]\n",
      " [0.34343434 0.65656566]\n",
      " [0.35353535 0.64646465]\n",
      " [0.36363636 0.63636364]\n",
      " [0.37373737 0.62626263]\n",
      " [0.38383838 0.61616162]\n",
      " [0.39393939 0.60606061]\n",
      " [0.4040404  0.5959596 ]\n",
      " [0.41414141 0.58585859]\n",
      " [0.42424242 0.57575758]\n",
      " [0.43434343 0.56565657]\n",
      " [0.44444444 0.55555556]\n",
      " [0.45454545 0.54545455]\n",
      " [0.46464646 0.53535354]\n",
      " [0.47474747 0.52525253]\n",
      " [0.48484848 0.51515152]\n",
      " [0.49494949 0.50505051]\n",
      " [0.50505051 0.49494949]\n",
      " [0.51515152 0.48484848]\n",
      " [0.52525253 0.47474747]\n",
      " [0.53535354 0.46464646]\n",
      " [0.54545455 0.45454545]\n",
      " [0.55555556 0.44444444]\n",
      " [0.56565657 0.43434343]\n",
      " [0.57575758 0.42424242]\n",
      " [0.58585859 0.41414141]\n",
      " [0.5959596  0.4040404 ]\n",
      " [0.60606061 0.39393939]\n",
      " [0.61616162 0.38383838]\n",
      " [0.62626263 0.37373737]\n",
      " [0.63636364 0.36363636]\n",
      " [0.64646465 0.35353535]\n",
      " [0.65656566 0.34343434]\n",
      " [0.66666667 0.33333333]\n",
      " [0.67676768 0.32323232]\n",
      " [0.68686869 0.31313131]\n",
      " [0.6969697  0.3030303 ]\n",
      " [0.70707071 0.29292929]\n",
      " [0.71717172 0.28282828]\n",
      " [0.72727273 0.27272727]\n",
      " [0.73737374 0.26262626]\n",
      " [0.74747475 0.25252525]\n",
      " [0.75757576 0.24242424]\n",
      " [0.76767677 0.23232323]\n",
      " [0.77777778 0.22222222]\n",
      " [0.78787879 0.21212121]\n",
      " [0.7979798  0.2020202 ]\n",
      " [0.80808081 0.19191919]\n",
      " [0.81818182 0.18181818]\n",
      " [0.82828283 0.17171717]\n",
      " [0.83838384 0.16161616]\n",
      " [0.84848485 0.15151515]\n",
      " [0.85858586 0.14141414]\n",
      " [0.86868687 0.13131313]\n",
      " [0.87878788 0.12121212]\n",
      " [0.88888889 0.11111111]\n",
      " [0.8989899  0.1010101 ]\n",
      " [0.90909091 0.09090909]\n",
      " [0.91919192 0.08080808]\n",
      " [0.92929293 0.07070707]\n",
      " [0.93939394 0.06060606]\n",
      " [0.94949495 0.05050505]\n",
      " [0.95959596 0.04040404]\n",
      " [0.96969697 0.03030303]\n",
      " [0.97979798 0.02020202]\n",
      " [0.98989899 0.01010101]\n",
      " [1.         0.        ]]\n",
      "[[0.00000000e+00 1.00000000e+00]\n",
      " [1.02030405e-04 9.79900010e-01]\n",
      " [4.08121620e-04 9.60004081e-01]\n",
      " [9.18273646e-04 9.40312213e-01]\n",
      " [1.63248648e-03 9.20824406e-01]\n",
      " [2.55076013e-03 9.01540659e-01]\n",
      " [3.67309458e-03 8.82460973e-01]\n",
      " [4.99948985e-03 8.63585348e-01]\n",
      " [6.52994592e-03 8.44913784e-01]\n",
      " [8.26446281e-03 8.26446281e-01]\n",
      " [1.02030405e-02 8.08182838e-01]\n",
      " [1.23456790e-02 7.90123457e-01]\n",
      " [1.46923783e-02 7.72268136e-01]\n",
      " [1.72431385e-02 7.54616876e-01]\n",
      " [1.99979594e-02 7.37169677e-01]\n",
      " [2.29568411e-02 7.19926538e-01]\n",
      " [2.61197837e-02 7.02887460e-01]\n",
      " [2.94867871e-02 6.86052444e-01]\n",
      " [3.30578512e-02 6.69421488e-01]\n",
      " [3.68329762e-02 6.52994592e-01]\n",
      " [4.08121620e-02 6.36771758e-01]\n",
      " [4.49954086e-02 6.20752984e-01]\n",
      " [4.93827160e-02 6.04938272e-01]\n",
      " [5.39740843e-02 5.89327620e-01]\n",
      " [5.87695133e-02 5.73921028e-01]\n",
      " [6.37690032e-02 5.58718498e-01]\n",
      " [6.89725538e-02 5.43720029e-01]\n",
      " [7.43801653e-02 5.28925620e-01]\n",
      " [7.99918376e-02 5.14335272e-01]\n",
      " [8.58075707e-02 4.99948985e-01]\n",
      " [9.18273646e-02 4.85766758e-01]\n",
      " [9.80512193e-02 4.71788593e-01]\n",
      " [1.04479135e-01 4.58014488e-01]\n",
      " [1.11111111e-01 4.44444444e-01]\n",
      " [1.17947148e-01 4.31078461e-01]\n",
      " [1.24987246e-01 4.17916539e-01]\n",
      " [1.32231405e-01 4.04958678e-01]\n",
      " [1.39679625e-01 3.92204877e-01]\n",
      " [1.47331905e-01 3.79655137e-01]\n",
      " [1.55188246e-01 3.67309458e-01]\n",
      " [1.63248648e-01 3.55167840e-01]\n",
      " [1.71513111e-01 3.43230283e-01]\n",
      " [1.79981635e-01 3.31496786e-01]\n",
      " [1.88654219e-01 3.19967350e-01]\n",
      " [1.97530864e-01 3.08641975e-01]\n",
      " [2.06611570e-01 2.97520661e-01]\n",
      " [2.15896337e-01 2.86603408e-01]\n",
      " [2.25385165e-01 2.75890215e-01]\n",
      " [2.35078053e-01 2.65381084e-01]\n",
      " [2.44975003e-01 2.55076013e-01]\n",
      " [2.55076013e-01 2.44975003e-01]\n",
      " [2.65381084e-01 2.35078053e-01]\n",
      " [2.75890215e-01 2.25385165e-01]\n",
      " [2.86603408e-01 2.15896337e-01]\n",
      " [2.97520661e-01 2.06611570e-01]\n",
      " [3.08641975e-01 1.97530864e-01]\n",
      " [3.19967350e-01 1.88654219e-01]\n",
      " [3.31496786e-01 1.79981635e-01]\n",
      " [3.43230283e-01 1.71513111e-01]\n",
      " [3.55167840e-01 1.63248648e-01]\n",
      " [3.67309458e-01 1.55188246e-01]\n",
      " [3.79655137e-01 1.47331905e-01]\n",
      " [3.92204877e-01 1.39679625e-01]\n",
      " [4.04958678e-01 1.32231405e-01]\n",
      " [4.17916539e-01 1.24987246e-01]\n",
      " [4.31078461e-01 1.17947148e-01]\n",
      " [4.44444444e-01 1.11111111e-01]\n",
      " [4.58014488e-01 1.04479135e-01]\n",
      " [4.71788593e-01 9.80512193e-02]\n",
      " [4.85766758e-01 9.18273646e-02]\n",
      " [4.99948985e-01 8.58075707e-02]\n",
      " [5.14335272e-01 7.99918376e-02]\n",
      " [5.28925620e-01 7.43801653e-02]\n",
      " [5.43720029e-01 6.89725538e-02]\n",
      " [5.58718498e-01 6.37690032e-02]\n",
      " [5.73921028e-01 5.87695133e-02]\n",
      " [5.89327620e-01 5.39740843e-02]\n",
      " [6.04938272e-01 4.93827160e-02]\n",
      " [6.20752984e-01 4.49954086e-02]\n",
      " [6.36771758e-01 4.08121620e-02]\n",
      " [6.52994592e-01 3.68329762e-02]\n",
      " [6.69421488e-01 3.30578512e-02]\n",
      " [6.86052444e-01 2.94867871e-02]\n",
      " [7.02887460e-01 2.61197837e-02]\n",
      " [7.19926538e-01 2.29568411e-02]\n",
      " [7.37169677e-01 1.99979594e-02]\n",
      " [7.54616876e-01 1.72431385e-02]\n",
      " [7.72268136e-01 1.46923783e-02]\n",
      " [7.90123457e-01 1.23456790e-02]\n",
      " [8.08182838e-01 1.02030405e-02]\n",
      " [8.26446281e-01 8.26446281e-03]\n",
      " [8.44913784e-01 6.52994592e-03]\n",
      " [8.63585348e-01 4.99948985e-03]\n",
      " [8.82460973e-01 3.67309458e-03]\n",
      " [9.01540659e-01 2.55076013e-03]\n",
      " [9.20824406e-01 1.63248648e-03]\n",
      " [9.40312213e-01 9.18273646e-04]\n",
      " [9.60004081e-01 4.08121620e-04]\n",
      " [9.79900010e-01 1.02030405e-04]\n",
      " [1.00000000e+00 0.00000000e+00]]\n"
     ]
    },
    {
     "data": {
      "image/png": "[encoded data removed]",
      "text/plain": [
       "<matplotlib.figure.Figure at 0x7f806b0b9c10>"
      ]
     },
     "metadata": {},
     "output_type": "display_data"
    }
   ],
   "source": [
    "plot_impurities()"
   ]
  },
  {
   "cell_type": "code",
   "execution_count": 9,
   "metadata": {
    "slideshow": {
     "slide_type": "subslide"
    }
   },
   "outputs": [
    {
     "name": "stdout",
     "output_type": "stream",
     "text": [
      "[0.         0.01010101 0.02020202 0.03030303 0.04040404 0.05050505\n",
      " 0.06060606 0.07070707 0.08080808 0.09090909 0.1010101  0.11111111\n",
      " 0.12121212 0.13131313 0.14141414 0.15151515 0.16161616 0.17171717\n",
      " 0.18181818 0.19191919 0.2020202  0.21212121 0.22222222 0.23232323\n",
      " 0.24242424 0.25252525 0.26262626 0.27272727 0.28282828 0.29292929\n",
      " 0.3030303  0.31313131 0.32323232 0.33333333 0.34343434 0.35353535\n",
      " 0.36363636 0.37373737 0.38383838 0.39393939 0.4040404  0.41414141\n",
      " 0.42424242 0.43434343 0.44444444 0.45454545 0.46464646 0.47474747\n",
      " 0.48484848 0.49494949 0.50505051 0.51515152 0.52525253 0.53535354\n",
      " 0.54545455 0.55555556 0.56565657 0.57575758 0.58585859 0.5959596\n",
      " 0.60606061 0.61616162 0.62626263 0.63636364 0.64646465 0.65656566\n",
      " 0.66666667 0.67676768 0.68686869 0.6969697  0.70707071 0.71717172\n",
      " 0.72727273 0.73737374 0.74747475 0.75757576 0.76767677 0.77777778\n",
      " 0.78787879 0.7979798  0.80808081 0.81818182 0.82828283 0.83838384\n",
      " 0.84848485 0.85858586 0.86868687 0.87878788 0.88888889 0.8989899\n",
      " 0.90909091 0.91919192 0.92929293 0.93939394 0.94949495 0.95959596\n",
      " 0.96969697 0.97979798 0.98989899 1.        ]\n",
      "[[0.         1.        ]\n",
      " [0.01010101 0.98989899]\n",
      " [0.02020202 0.97979798]\n",
      " [0.03030303 0.96969697]\n",
      " [0.04040404 0.95959596]\n",
      " [0.05050505 0.94949495]\n",
      " [0.06060606 0.93939394]\n",
      " [0.07070707 0.92929293]\n",
      " [0.08080808 0.91919192]\n",
      " [0.09090909 0.90909091]\n",
      " [0.1010101  0.8989899 ]\n",
      " [0.11111111 0.88888889]\n",
      " [0.12121212 0.87878788]\n",
      " [0.13131313 0.86868687]\n",
      " [0.14141414 0.85858586]\n",
      " [0.15151515 0.84848485]\n",
      " [0.16161616 0.83838384]\n",
      " [0.17171717 0.82828283]\n",
      " [0.18181818 0.81818182]\n",
      " [0.19191919 0.80808081]\n",
      " [0.2020202  0.7979798 ]\n",
      " [0.21212121 0.78787879]\n",
      " [0.22222222 0.77777778]\n",
      " [0.23232323 0.76767677]\n",
      " [0.24242424 0.75757576]\n",
      " [0.25252525 0.74747475]\n",
      " [0.26262626 0.73737374]\n",
      " [0.27272727 0.72727273]\n",
      " [0.28282828 0.71717172]\n",
      " [0.29292929 0.70707071]\n",
      " [0.3030303  0.6969697 ]\n",
      " [0.31313131 0.68686869]\n",
      " [0.32323232 0.67676768]\n",
      " [0.33333333 0.66666667]\n",
      " [0.34343434 0.65656566]\n",
      " [0.35353535 0.64646465]\n",
      " [0.36363636 0.63636364]\n",
      " [0.37373737 0.62626263]\n",
      " [0.38383838 0.61616162]\n",
      " [0.39393939 0.60606061]\n",
      " [0.4040404  0.5959596 ]\n",
      " [0.41414141 0.58585859]\n",
      " [0.42424242 0.57575758]\n",
      " [0.43434343 0.56565657]\n",
      " [0.44444444 0.55555556]\n",
      " [0.45454545 0.54545455]\n",
      " [0.46464646 0.53535354]\n",
      " [0.47474747 0.52525253]\n",
      " [0.48484848 0.51515152]\n",
      " [0.49494949 0.50505051]\n",
      " [0.50505051 0.49494949]\n",
      " [0.51515152 0.48484848]\n",
      " [0.52525253 0.47474747]\n",
      " [0.53535354 0.46464646]\n",
      " [0.54545455 0.45454545]\n",
      " [0.55555556 0.44444444]\n",
      " [0.56565657 0.43434343]\n",
      " [0.57575758 0.42424242]\n",
      " [0.58585859 0.41414141]\n",
      " [0.5959596  0.4040404 ]\n",
      " [0.60606061 0.39393939]\n",
      " [0.61616162 0.38383838]\n",
      " [0.62626263 0.37373737]\n",
      " [0.63636364 0.36363636]\n",
      " [0.64646465 0.35353535]\n",
      " [0.65656566 0.34343434]\n",
      " [0.66666667 0.33333333]\n",
      " [0.67676768 0.32323232]\n",
      " [0.68686869 0.31313131]\n",
      " [0.6969697  0.3030303 ]\n",
      " [0.70707071 0.29292929]\n",
      " [0.71717172 0.28282828]\n",
      " [0.72727273 0.27272727]\n",
      " [0.73737374 0.26262626]\n",
      " [0.74747475 0.25252525]\n",
      " [0.75757576 0.24242424]\n",
      " [0.76767677 0.23232323]\n",
      " [0.77777778 0.22222222]\n",
      " [0.78787879 0.21212121]\n",
      " [0.7979798  0.2020202 ]\n",
      " [0.80808081 0.19191919]\n",
      " [0.81818182 0.18181818]\n",
      " [0.82828283 0.17171717]\n",
      " [0.83838384 0.16161616]\n",
      " [0.84848485 0.15151515]\n",
      " [0.85858586 0.14141414]\n",
      " [0.86868687 0.13131313]\n",
      " [0.87878788 0.12121212]\n",
      " [0.88888889 0.11111111]\n",
      " [0.8989899  0.1010101 ]\n",
      " [0.90909091 0.09090909]\n",
      " [0.91919192 0.08080808]\n",
      " [0.92929293 0.07070707]\n",
      " [0.93939394 0.06060606]\n",
      " [0.94949495 0.05050505]\n",
      " [0.95959596 0.04040404]\n",
      " [0.96969697 0.03030303]\n",
      " [0.97979798 0.02020202]\n",
      " [0.98989899 0.01010101]\n",
      " [1.         0.        ]]\n"
     ]
    },
    {
     "data": {
      "image/png": "[encoded data removed]",
      "text/plain": [
       "<matplotlib.figure.Figure at 0x7fa6b05bf950>"
      ]
     },
     "metadata": {},
     "output_type": "display_data"
    }
   ],
   "source": [
    "plot_impurities()"
   ]
  },
  {
   "cell_type": "markdown",
   "metadata": {
    "slideshow": {
     "slide_type": "subslide"
    }
   },
   "source": [
    "## Как определяются лучшие разбиения (best splits)?\n",
    "### Прирост информации\n",
    "\n",
    "Выберем признак $A$ и пороговое значение $t$ на нем таким образом, чтобы уменьшить неопределенность:\n",
    "\n",
    "**Насколько уменьшится неопределенность:** <br/>\n",
    "$$ Gain(S, A) = I(S) - \\left(\\frac{|S_L|}{|S|}\\cdot I(S_L) + \\frac{|S_R|}{|S|}\\cdot I(S_R) \\right),$$ где $S_R$ и $S_L$ - это потомки узла $S$ c объектами, удовлетворяющим соответствующим условиям.\n",
    "\n",
    "* Стратегия выбора - жадная\n",
    "* Как определяется порог при вещественных признаках?\n",
    "* Локальная оптимизация - уменьшение Impurity внутри узла\n",
    "* Результаты не сильно зависят от выбора самой меры неопределенности\n"
   ]
  },
  {
   "cell_type": "code",
   "execution_count": 4,
   "metadata": {
    "code_folding": [],
    "slideshow": {
     "slide_type": "notes"
    }
   },
   "outputs": [],
   "source": [
    "def wine_demo():\n",
    "\n",
    "    df_wine = pd.read_csv('https://archive.ics.uci.edu/ml/machine-learning-databases/wine-quality/winequality-red.csv', sep=';')\n",
    "\n",
    "    fig, ax = plt.subplots(1, 2)\n",
    "\n",
    "    fig.set_figheight(5)\n",
    "\n",
    "    df_wine.loc[:, 'quality_cat'] = (df_wine.loc[:, 'quality'] > 5).astype(int) \n",
    "    idx = df_wine.loc[:, 'quality_cat'] == 1\n",
    "    df_wine.loc[idx, 'alcohol'].hist(label='good quality', bins=20, alpha = 0.4, ax=ax[0])\n",
    "    df_wine.loc[~idx, 'alcohol'].hist(label='bad quality', bins=20, alpha = 0.4, ax=ax[0])\n",
    "    ax[0].set_xlabel('alcohol')\n",
    "\n",
    "    p = np.array([df_wine.quality_cat.mean(), 1-df_wine.quality_cat.mean()])\n",
    "\n",
    "    init_impurity = impurity(p)\n",
    "\n",
    "    G = []\n",
    "    t_range = np.linspace(df_wine.alcohol.min(), df_wine.alcohol.max(), 100)\n",
    "\n",
    "    for t in t_range:\n",
    "        idx = df_wine.alcohol < t\n",
    "        p1 = np.array([df_wine.loc[idx, 'quality_cat'].mean(), 1-df_wine.loc[idx, 'quality_cat'].mean()])\n",
    "        p2 = np.array([df_wine.loc[~idx, 'quality_cat'].mean(), 1-df_wine.loc[~idx, 'quality_cat'].mean()])\n",
    "\n",
    "        G.append(init_impurity - (idx.mean()*impurity(p1) + (1-idx.mean())*impurity(p2)))\n",
    "\n",
    "    ax[1].plot(t_range, G)\n",
    "    ax[1].set_xlabel('alcohol')\n",
    "    ax[1].set_ylabel('Gain')\n",
    "\n",
    "    mG = np.nanmax(G)\n",
    "    mt = t_range[np.nanargmax(G)]\n",
    "\n",
    "    ax[0].vlines(mt, 0, 150, label='best threshold (%.2f)' % mt)\n",
    "    ax[1].vlines(mt, 0, mG, label='best threshold\\n(gain = %.4f)' % mG)\n",
    "    \n",
    "    ax[0].legend()\n",
    "    ax[1].legend()\n",
    "    \n",
    "    plt.show()"
   ]
  },
  {
   "cell_type": "code",
   "execution_count": 5,
   "metadata": {
    "slideshow": {
     "slide_type": "subslide"
    }
   },
   "outputs": [
    {
     "data": {
      "image/png": "[encoded data removed]",
      "text/plain": [
       "<matplotlib.figure.Figure at 0x7ff670317b10>"
      ]
     },
     "metadata": {},
     "output_type": "display_data"
    }
   ],
   "source": [
    "def impurity(p): \n",
    "    # p - массив из долей каждого из классов\n",
    "    # Имплементируйте любую меру неопределенности\n",
    "    return 1 - (p**2).sum()\n",
    "#     return 1 - np.max(p)\n",
    "#     return -np.sum(p*np.log2(p))\n",
    "wine_demo() "
   ]
  },
  {
   "cell_type": "code",
   "execution_count": 6,
   "metadata": {
    "code_folding": [],
    "slideshow": {
     "slide_type": "notes"
    }
   },
   "outputs": [],
   "source": [
    "from sklearn.tree import DecisionTreeClassifier\n",
    "from sklearn.tree import export_graphviz\n",
    "from ipywidgets import interact, IntSlider\n",
    "import subprocess\n",
    "\n",
    "\n",
    "def demo_dec_tree(depth=1):\n",
    "    fig, ax = plt.subplots(1,2)\n",
    "    fig.set_figheight(5)\n",
    "\n",
    "    np.random.seed(0)\n",
    "\n",
    "    C = np.array([[0., -0.7], [1.5, 0.7]])\n",
    "    gauss1 = np.dot(np.random.randn(200, 2) + np.array([4, 2]), C)\n",
    "    gauss2 = np.dot(np.random.randn(300, 2), C)\n",
    "\n",
    "    X = np.vstack([gauss1, gauss2])\n",
    "    y = np.r_[np.ones(200), np.zeros(300)]\n",
    "\n",
    "    ax[1].scatter(X[:,0], X[:, 1], c=y)\n",
    "    ax[1].set_xlabel('$x_1$')\n",
    "    ax[1].set_ylabel('$x_2$')\n",
    "\n",
    "    # Dec Tree Stuff\n",
    "    tree = DecisionTreeClassifier(criterion='entropy', max_depth=depth, random_state=123)\n",
    "    tree.fit(X,y)\n",
    "\n",
    "    x_range = np.linspace(X.min(), X.max(), 100)\n",
    "    xx1, xx2 = np.meshgrid(x_range, x_range)\n",
    "\n",
    "    Y = tree.predict(np.c_[xx1.ravel(), xx2.ravel()])\n",
    "    Y = Y.reshape(xx1.shape)\n",
    "\n",
    "    ax[1].contourf(xx1, xx2, Y, alpha=0.3)\n",
    "    ax[1].scatter(X[:,0], X[:,1],c=y)\n",
    "    \n",
    "    \n",
    "    try:\n",
    "        with open('tree.dot', 'w') as fout:\n",
    "            export_graphviz(tree, out_file=fout, feature_names=['x1', 'x2'], class_names=['0', '1'])\n",
    "        command = [\"dot\", \"-Tpng\", \"tree.dot\", \"-o\", \"tree.png\"]\n",
    "        subprocess.check_call(command)\n",
    "        ax[0].imshow(plt.imread('tree.png'))\n",
    "        ax[0].axis(\"off\")\n",
    "    except:\n",
    "        print 'Скорее всего не установлен graphviz'\n",
    "        \n",
    "    plt.show()"
   ]
  },
  {
   "cell_type": "markdown",
   "metadata": {
    "slideshow": {
     "slide_type": "subslide"
    }
   },
   "source": [
    "## Классификация"
   ]
  },
  {
   "cell_type": "code",
   "execution_count": 7,
   "metadata": {
    "code_folding": [
     2
    ],
    "slideshow": {
     "slide_type": "fragment"
    }
   },
   "outputs": [
    {
     "data": {
      "application/vnd.jupyter.widget-view+json": {
       "model_id": "0f2dbb860a034ad2a6de962de1cc5485",
       "version_major": 2,
       "version_minor": 0
      },
      "text/html": [
       "<p>Failed to display Jupyter Widget of type <code>interactive</code>.</p>\n",
       "<p>\n",
       "  If you're reading this message in the Jupyter Notebook or JupyterLab Notebook, it may mean\n",
       "  that the widgets JavaScript is still loading. If this message persists, it\n",
       "  likely means that the widgets JavaScript library is either not installed or\n",
       "  not enabled. See the <a href=\"https://ipywidgets.readthedocs.io/en/stable/user_install.html\">Jupyter\n",
       "  Widgets Documentation</a> for setup instructions.\n",
       "</p>\n",
       "<p>\n",
       "  If you're reading this message in another frontend (for example, a static\n",
       "  rendering on GitHub or <a href=\"https://nbviewer.jupyter.org/\">NBViewer</a>),\n",
       "  it may mean that your frontend doesn't currently support widgets.\n",
       "</p>\n"
      ],
      "text/plain": [
       "interactive(children=(IntSlider(value=1, description=u'depth', max=5, min=1), Output()), _dom_classes=('widget-interact',))"
      ]
     },
     "metadata": {},
     "output_type": "display_data"
    }
   ],
   "source": [
    "try:\n",
    "    fig = interact(demo_dec_tree, depth=IntSlider(min=1, max=5, value=1))\n",
    "except:\n",
    "    print 'Что-то не так. Посмотрите на доску'"
   ]
  },
  {
   "cell_type": "markdown",
   "metadata": {
    "slideshow": {
     "slide_type": "subslide"
    }
   },
   "source": [
    "## Критерии останова (регуляризация)\n",
    "\n",
    "* Никогда\n",
    "* Задать порог по мере неопределенности: $I(S) \\leq \\theta$\n",
    "* Задать порог по размеру узла: $|S| \\leq n$\n",
    "* Задать порог на глубину: $Depth(S) = d$\n",
    "* Задать порог на размер потомков: $|S_L| \\leq n_1 \\& |S_R| \\leq n_2$\n",
    "* ..."
   ]
  },
  {
   "cell_type": "markdown",
   "metadata": {
    "slideshow": {
     "slide_type": "subslide"
    }
   },
   "source": [
    "## Регрессия\n",
    "\n",
    "Для задачи регрессии в качестве меры неопределенности могут выступать\n",
    "\n",
    "* Среднее квадратичное отклонение от среднего\n",
    "$$ I(S) = \\frac{1}{|S|}\\sum\\limits_{i \\in S}(y_i - \\bar{y_S})^2 $$\n",
    "* Среднее абсолютное отклонение от медианы\n",
    "$$ I(S) = \\frac{1}{|S|}\\sum\\limits_{i \\in S}|y_i - \\bar{y_S}| $$"
   ]
  },
  {
   "cell_type": "code",
   "execution_count": 8,
   "metadata": {
    "slideshow": {
     "slide_type": "notes"
    }
   },
   "outputs": [],
   "source": [
    "from sklearn.tree import DecisionTreeRegressor\n",
    "\n",
    "x_true = np.arange(-5, 5, 0.2)\n",
    "x = x_true + np.random.rand(x_true.shape[0]) - 0.5\n",
    "y_true = np.sin(x_true)+x_true/3\n",
    "y = y_true + np.random.rand(x_true.shape[0]) - 0.5\n",
    "\n",
    "def plot_dec_reg(depth=1, criterion='mse', ):\n",
    "    \n",
    "    fig, ax = plt.subplots(1,2)\n",
    "    fig.set_figheight(5)\n",
    "    \n",
    "    tree = DecisionTreeRegressor(criterion=criterion, max_depth=depth)\n",
    "    tree.fit(x.reshape(-1,1), y)\n",
    "    y_hat = tree.predict(x_true.reshape(-1,1))\n",
    "    \n",
    "    ax[1].plot(x_true, y_true, c='g', label='$f(x)$')\n",
    "    ax[1].scatter(x, y, label='actual data')\n",
    "    ax[1].set_xlabel('x')\n",
    "    ax[1].set_ylabel('y')\n",
    "    ax[1].plot(x_true, y_hat, c='r', label='decision tree \\nregression')\n",
    "    ax[1].legend(loc=2)\n",
    "    \n",
    "    try:\n",
    "        with open('tree.dot', 'w') as fout:\n",
    "            export_graphviz(tree, out_file=fout, feature_names=['x1'], class_names=['0', '1'])\n",
    "        command = [\"dot\", \"-Tpng\", \"tree.dot\", \"-o\", \"tree.png\"]\n",
    "        subprocess.check_call(command)\n",
    "        ax[0].imshow(plt.imread('tree.png'))\n",
    "        ax[0].axis(\"off\")\n",
    "    except:\n",
    "        print 'Скорее всего не установлен graphviz'\n",
    "        \n",
    "    plt.show()"
   ]
  },
  {
   "cell_type": "code",
   "execution_count": 9,
   "metadata": {
    "code_folding": [
     0,
     2
    ],
    "slideshow": {
     "slide_type": "subslide"
    }
   },
   "outputs": [
    {
     "data": {
      "application/vnd.jupyter.widget-view+json": {
       "model_id": "26b993909b074a5f81b83363e4d5e0e9",
       "version_major": 2,
       "version_minor": 0
      },
      "text/html": [
       "<p>Failed to display Jupyter Widget of type <code>interactive</code>.</p>\n",
       "<p>\n",
       "  If you're reading this message in the Jupyter Notebook or JupyterLab Notebook, it may mean\n",
       "  that the widgets JavaScript is still loading. If this message persists, it\n",
       "  likely means that the widgets JavaScript library is either not installed or\n",
       "  not enabled. See the <a href=\"https://ipywidgets.readthedocs.io/en/stable/user_install.html\">Jupyter\n",
       "  Widgets Documentation</a> for setup instructions.\n",
       "</p>\n",
       "<p>\n",
       "  If you're reading this message in another frontend (for example, a static\n",
       "  rendering on GitHub or <a href=\"https://nbviewer.jupyter.org/\">NBViewer</a>),\n",
       "  it may mean that your frontend doesn't currently support widgets.\n",
       "</p>\n"
      ],
      "text/plain": [
       "interactive(children=(IntSlider(value=1, description=u'depth', max=5, min=1), Dropdown(description=u'criterion', options=('mse', 'mae'), value='mse'), Output()), _dom_classes=('widget-interact',))"
      ]
     },
     "metadata": {},
     "output_type": "display_data"
    }
   ],
   "source": [
    "try:\n",
    "    fig = interact(plot_dec_reg, depth=IntSlider(min=1, max=5, value=1), criterion=['mse', 'mae'])\n",
    "except:\n",
    "    print 'Что-то не так. Посмотрите на доску'"
   ]
  },
  {
   "cell_type": "markdown",
   "metadata": {
    "slideshow": {
     "slide_type": "subslide"
    }
   },
   "source": [
    "## Как определяется ответ?\n",
    "\n",
    "* Классификация\n",
    "    * Класс с большинством в листе\n",
    "    * Доли каждого из классов в листе\n",
    "* Регрессия\n",
    "    * Среднее (медиана) целевой переменной в листе"
   ]
  },
  {
   "cell_type": "markdown",
   "metadata": {
    "slideshow": {
     "slide_type": "subslide"
    }
   },
   "source": [
    "## Важность признаков\n",
    "\n",
    "В деревьях решений производится автоматический отбор признаков.\n",
    "\n",
    "Пусть $v(S)$ - это признак, который использовался для ветвления в узле $S$\n",
    "\n",
    "$$ \\text{imp}(A) = \\sum\\limits_{i: v(S_i) = A} \\frac{|S_i|}{|S|} Gain(S_i, A) $$"
   ]
  },
  {
   "cell_type": "markdown",
   "metadata": {
    "slideshow": {
     "slide_type": "subslide"
    }
   },
   "source": [
    "## Работа с пропусками\n",
    "\n",
    "1. Удалить объекты\\признаки с пропусками\n",
    "2. Пропущенное значение = отдельная категория\n",
    "3. Вычисление impurity без учета пропуска\n",
    "4. Surrogate split"
   ]
  },
  {
   "cell_type": "markdown",
   "metadata": {
    "slideshow": {
     "slide_type": "subslide"
    }
   },
   "source": [
    "## Вычислительная сложность\n",
    "\n",
    "#### Обучение\n",
    "* Расчет мер неопределенности для $n$ объектов с $d$ признаками на одном уровне:\n",
    "    * $O(dn)$\n",
    "* Надо делать на каждом уровне дерева. Глубина дерева в сбалансированном случае случае - $\\log{(n)}$\n",
    "    * $O(dn \\log{(n)})$\n",
    "    \n",
    "#### Применение\n",
    "* В худшем случае $O(n)$\n",
    "* В сбалансированном случае $O(\\log{(n)})$"
   ]
  },
  {
   "cell_type": "markdown",
   "metadata": {
    "slideshow": {
     "slide_type": "subslide"
    }
   },
   "source": [
    "## Специальные алгоритмы построения деревьев\n",
    " \n",
    " \n",
    "** ID 3 **\n",
    "* Только категориальные признаки\n",
    "* Количество потомков = количеству значений признака\n",
    "* Строится до максимальной глубины\n",
    "\n",
    "** С 4.5 **\n",
    "* Поддержка вещественных признаков\n",
    "* Категриальные как в ID3\n",
    "* При пропуске значения переход по всем потомкам\n",
    "* Удаляет избыточные ветвления\n",
    "\n",
    "** СART **\n",
    "* В основном сегодняшнее занятие про него\n",
    "* Специальная процедура усещения дерева после построения (post prunning)"
   ]
  },
  {
   "cell_type": "markdown",
   "metadata": {
    "slideshow": {
     "slide_type": "subslide"
    }
   },
   "source": [
    "## Преимущества / Недостатки"
   ]
  },
  {
   "cell_type": "markdown",
   "metadata": {
    "slideshow": {
     "slide_type": "fragment"
    }
   },
   "source": [
    "** Преимущества **\n",
    "* Простота построения\n",
    "* Интерпретируемость (при небольшой глубине)\n",
    "* Требуются минимальная предобработка признаков\n",
    "* Встроенный отбор признаков\n",
    "\n"
   ]
  },
  {
   "cell_type": "markdown",
   "metadata": {
    "slideshow": {
     "slide_type": "subslide"
    }
   },
   "source": [
    "** Недостатки **\n",
    "* Границы строяется только параллельно или перпендикулярно осям признаков\n",
    "* При изменении набора данных надо полностью перестраивать и результат может получится совершенно иным\n",
    "* Жадность построения"
   ]
  },
  {
   "cell_type": "markdown",
   "metadata": {
    "slideshow": {
     "slide_type": "slide"
    }
   },
   "source": [
    "# Случайный лес (Random Forest)"
   ]
  },
  {
   "cell_type": "markdown",
   "metadata": {
    "slideshow": {
     "slide_type": "subslide"
    }
   },
   "source": [
    "Дерево решений очень чувствительно к данным"
   ]
  },
  {
   "cell_type": "code",
   "execution_count": 13,
   "metadata": {
    "slideshow": {
     "slide_type": "notes"
    }
   },
   "outputs": [],
   "source": [
    "from sklearn.datasets import make_moons\n",
    "\n",
    "def demo_2dec_tree():\n",
    "    fig, ax = plt.subplots(1,2)\n",
    "    fig.set_figheight(5)\n",
    "\n",
    "    np.random.seed(0)\n",
    "    \n",
    "    X, y = make_moons(noise=0.3, random_state=123)\n",
    "    \n",
    "    # Dec Tree Stuff\n",
    "    for i in range(2):\n",
    "        idx = np.random.randint(0, X.shape[0], int(0.9*X.shape[0]))\n",
    "\n",
    "        X1 = X[idx, :]\n",
    "        y1 = y[idx]\n",
    "\n",
    "        ax[i].scatter(X1[:,0], X1[:, 1], c=y1)\n",
    "        ax[i].set_xlabel('$x_1$')\n",
    "        ax[i].set_ylabel('$x_2$')\n",
    "\n",
    "        # Dec Tree Stuff 2\n",
    "        tree = DecisionTreeClassifier(criterion='entropy', max_depth=5, random_state=123)\n",
    "        tree.fit(X1,y1)\n",
    "\n",
    "        x_range = np.linspace(X.min(), X.max(), 100)\n",
    "        xx1, xx2 = np.meshgrid(x_range, x_range)\n",
    "\n",
    "        Y = tree.predict(np.c_[xx1.ravel(), xx2.ravel()])\n",
    "        Y = Y.reshape(xx1.shape)\n",
    "\n",
    "        ax[i].contourf(xx1, xx2, Y, alpha=0.3)\n",
    "        ax[i].scatter(X[:,0], X[:,1],c=y)"
   ]
  },
  {
   "cell_type": "code",
   "execution_count": 14,
   "metadata": {
    "slideshow": {
     "slide_type": "subslide"
    }
   },
   "outputs": [
    {
     "data": {
      "image/png": "[encoded data removed]",
      "text/plain": [
       "<matplotlib.figure.Figure at 0x7ff665037790>"
      ]
     },
     "metadata": {},
     "output_type": "display_data"
    }
   ],
   "source": [
    "demo_2dec_tree()"
   ]
  },
  {
   "cell_type": "markdown",
   "metadata": {
    "slideshow": {
     "slide_type": "subslide"
    }
   },
   "source": [
    "Bagging - это параллельный способ построения ансамбля.<br/>\n",
    "1. Обучающая выборка сэмплируется $k$ раз с помощью *bootstrap'a* (выборка с возвратом)\n",
    "2. На каждом сэмпле обучается отдельная **базовая модель**\n",
    "3. Ответы моделей усредняются (возможно с весом)\n",
    "<center><img src='https://api.ning.com/files/PljwbnoaWerfeDW8ck54xrq1d3AVIf518M0tLFD08F0oFg76*kz1qP9-Ndi1qXF50EfGAFDvcHOILJgdHPBRZzUedJMQmYe-/Capture.PNG' width='750'></center>\n",
    "\n",
    "*Вопрос: Какая доля объектов в среднем попадает в один bootstrap сэмпл?*"
   ]
  },
  {
   "cell_type": "markdown",
   "metadata": {
    "slideshow": {
     "slide_type": "subslide"
    }
   },
   "source": [
    "## Почему усреднение работает?"
   ]
  },
  {
   "cell_type": "markdown",
   "metadata": {
    "slideshow": {
     "slide_type": "fragment"
    }
   },
   "source": [
    "* Какая высота у Эйфелевой башни?"
   ]
  },
  {
   "cell_type": "markdown",
   "metadata": {
    "slideshow": {
     "slide_type": "subslide"
    }
   },
   "source": [
    "* Кто здесь леопард?\n",
    "<style type=\"text/css\">\n",
    ".tg  {border-collapse:collapse;border-spacing:0;}\n",
    ".tg td{font-family:Arial, sans-serif;font-size:14px;padding:10px 5px;border-style:solid;border-width:1px;overflow:hidden;word-break:normal;}\n",
    ".tg th{font-family:Arial, sans-serif;font-size:14px;font-weight:normal;padding:10px 5px;border-style:solid;border-width:1px;overflow:hidden;word-break:normal;}\n",
    "</style>\n",
    "<table class=\"tg\">\n",
    "  <tr>\n",
    "    <th class=\"tg-031e\"><img width=400 src='images/cat1.jpg'></th>\n",
    "    <th class=\"tg-031e\"><img width=500 src='images/cat2.jpg'></th>\n",
    "  </tr>\n",
    "</table>"
   ]
  },
  {
   "cell_type": "code",
   "execution_count": 15,
   "metadata": {
    "slideshow": {
     "slide_type": "notes"
    }
   },
   "outputs": [],
   "source": [
    "from sklearn.ensemble import RandomForestClassifier\n",
    "\n",
    "def rf_demo(n_est=5):\n",
    "    rf = RandomForestClassifier(random_state=123, n_estimators=n_est)\n",
    "\n",
    "    np.random.seed(0)\n",
    "    \n",
    "    X, y = make_moons(noise=0.3, random_state=123)\n",
    "    rf.fit(X, y)\n",
    "    \n",
    "    x_range = np.linspace(X.min(), X.max(), 100)\n",
    "    xx1, xx2 = np.meshgrid(x_range, x_range)\n",
    "    \n",
    "    \n",
    "    for tree in rf.estimators_:\n",
    "        y_hat = tree.predict(np.c_[xx1.ravel(), xx2.ravel()])\n",
    "        y_hat = y_hat.reshape(xx1.shape)\n",
    "\n",
    "        plt.contourf(xx1, xx2, y_hat, alpha=1.0/n_est)\n",
    "    plt.scatter(X[:,0], X[:,1], c=y)\n",
    "    \n",
    "    plt.xlabel('$x_1$')\n",
    "    plt.ylabel('$x_2$')\n",
    "    \n",
    "    plt.title('N estimators = %d' % n_est)\n",
    "    plt.show()\n"
   ]
  },
  {
   "cell_type": "markdown",
   "metadata": {
    "slideshow": {
     "slide_type": "subslide"
    }
   },
   "source": [
    "\n",
    "Так же есть некоторые обобщения бэггинга:\n",
    "\n",
    "* Метод случайных подпространств - на шаге 1. сэмплируются не только объекты, но и подпространство признаков\n",
    "* Метод случайного леса - на каждом узле сэмплируется подпространство признаков\n",
    "\n",
    "В данном случае, на каждом сэмпле базовой моделью является дерево решений.<br/>\n",
    "Если вам нужно за минимальное время построить достаточно точную и устойчивую модель - это ваш вариант."
   ]
  },
  {
   "cell_type": "code",
   "execution_count": 17,
   "metadata": {
    "scrolled": false,
    "slideshow": {
     "slide_type": "subslide"
    }
   },
   "outputs": [
    {
     "data": {
      "application/vnd.jupyter.widget-view+json": {
       "model_id": "c28283eb771642faa73dddec0cdfb556",
       "version_major": 2,
       "version_minor": 0
      },
      "text/html": [
       "<p>Failed to display Jupyter Widget of type <code>interactive</code>.</p>\n",
       "<p>\n",
       "  If you're reading this message in the Jupyter Notebook or JupyterLab Notebook, it may mean\n",
       "  that the widgets JavaScript is still loading. If this message persists, it\n",
       "  likely means that the widgets JavaScript library is either not installed or\n",
       "  not enabled. See the <a href=\"https://ipywidgets.readthedocs.io/en/stable/user_install.html\">Jupyter\n",
       "  Widgets Documentation</a> for setup instructions.\n",
       "</p>\n",
       "<p>\n",
       "  If you're reading this message in another frontend (for example, a static\n",
       "  rendering on GitHub or <a href=\"https://nbviewer.jupyter.org/\">NBViewer</a>),\n",
       "  it may mean that your frontend doesn't currently support widgets.\n",
       "</p>\n"
      ],
      "text/plain": [
       "interactive(children=(IntSlider(value=1, description=u'n_est', max=101, min=1, step=5), Output()), _dom_classes=('widget-interact',))"
      ]
     },
     "metadata": {},
     "output_type": "display_data"
    }
   ],
   "source": [
    "try:\n",
    "    fig = interact(rf_demo, n_est=IntSlider(min=1, max=101, value=1, step=5))\n",
    "except:\n",
    "    print 'Что-то не так. Посмотрите на доску'"
   ]
  },
  {
   "cell_type": "markdown",
   "metadata": {
    "slideshow": {
     "slide_type": "subslide"
    }
   },
   "source": [
    "## Полезные ссылки\n",
    "* [Визуализация работы деревьев](http://www.r2d3.us/visual-intro-to-machine-learning-part-1/)\n",
    "* [Гайд про энтропию](http://clear-lines.com/blog/post/Discretizing-a-continuous-variable-using-Entropy.aspx)\n",
    "* [Гайд про энтропию 2](http://kevinmeurer.com/a-simple-guide-to-entropy-based-discretization/)"
   ]
  },
  {
   "cell_type": "markdown",
   "metadata": {},
   "source": [
    "# Доп. Материалы\n",
    "* Mohammed J. Zaki. Data Mining and Analysis: Fundamental Concepts and Algorithms. Ch19\n",
    "* Trevor Hastie, et al. The Elements of Statistical Learning. Ch9.2\n",
    "* [Random Forests Home](https://www.stat.berkeley.edu/~breiman/RandomForests/cc_home.htm)"
   ]
  },
  {
   "cell_type": "markdown",
   "metadata": {
    "slideshow": {
     "slide_type": "slide"
    }
   },
   "source": [
    "## Вопросы?\n",
    "\n",
    "## Пожалуйста, оставьте отзыв о лекции"
   ]
  }
 ],
 "metadata": {
  "anaconda-cloud": {},
  "celltoolbar": "Slideshow",
  "kernelspec": {
   "display_name": "Python 2",
   "language": "python",
   "name": "python2"
  },
  "language_info": {
   "codemirror_mode": {
    "name": "ipython",
    "version": 2
   },
   "file_extension": ".py",
   "mimetype": "text/x-python",
   "name": "python",
   "nbconvert_exporter": "python",
   "pygments_lexer": "ipython2",
   "version": "2.7.12"
  },
  "livereveal": {
   "theme": "serif",
   "transition": "concave",
   "width": "1024px"
  },
  "nav_menu": {},
  "toc": {
   "colors": {
    "hover_highlight": "#DAA520",
    "navigate_num": "#000000",
    "navigate_text": "#333333",
    "running_highlight": "#FF0000",
    "selected_highlight": "#FFD700",
    "sidebar_border": "#EEEEEE",
    "wrapper_background": "#FFFFFF"
   },
   "moveMenuLeft": true,
   "nav_menu": {
    "height": "513px",
    "width": "253px"
   },
   "navigate_menu": true,
   "number_sections": false,
   "sideBar": true,
   "threshold": 4,
   "toc_cell": false,
   "toc_section_display": "none",
   "toc_window_display": false,
   "widenNotebook": false
  },
  "toc_position": {
   "height": "973px",
   "left": "0px",
   "right": "1708px",
   "top": "109px",
   "width": "212px"
  }
 },
 "nbformat": 4,
 "nbformat_minor": 2
}
